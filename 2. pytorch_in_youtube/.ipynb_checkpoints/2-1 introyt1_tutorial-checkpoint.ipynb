{
 "cells": [
  {
   "cell_type": "code",
   "execution_count": null,
   "metadata": {},
   "outputs": [],
   "source": [
    "%matplotlib inline"
   ]
  },
  {
   "cell_type": "markdown",
   "metadata": {},
   "source": [
    "\n",
    "**Introduction** ||\n",
    "`Tensors <tensors_deeper_tutorial.html>`_ ||\n",
    "`Autograd <autogradyt_tutorial.html>`_ ||\n",
    "`Building Models <modelsyt_tutorial.html>`_ ||\n",
    "`TensorBoard Support <tensorboardyt_tutorial.html>`_ ||\n",
    "`Training Models <trainingyt.html>`_ ||\n",
    "`Model Understanding <captumyt.html>`_\n",
    "\n",
    "PyTorch 소개\n",
    "=======================\n",
    "\n",
    "아래 영상이나 `youtube <https://www.youtube.com/watch?v=IC0_FRiX-sw>`__ 를 참고하세요.\n",
    "\n",
    ".. raw:: html\n",
    "\n",
    "   <div style=\"margin-top:10px; margin-bottom:10px;\">\n",
    "     <iframe width=\"560\" height=\"315\" src=\"https://www.youtube.com/embed/IC0_FRiX-sw\" frameborder=\"0\" allow=\"accelerometer; encrypted-media; gyroscope; picture-in-picture\" allowfullscreen></iframe>\n",
    "   </div>\n",
    "\n",
    "PyTorch Tensors\n",
    "---------------\n",
    "\n",
    "`03:50 <https://www.youtube.com/watch?v=IC0_FRiX-sw&t=230s>`__ 에 시작하는 영상을 시청하세요.\n",
    "\n",
    "PyTorch를 import할 것입니다. \n"
   ]
  },
  {
   "cell_type": "code",
   "execution_count": 1,
   "metadata": {},
   "outputs": [],
   "source": [
    "import torch"
   ]
  },
  {
   "cell_type": "markdown",
   "metadata": {},
   "source": [
    "몇 가지 기본적인 tensor 조작을 알아보겠습니다.\n",
    "처음으로, tensor들을 만드는 몇 가지 방법을 살펴보겠습니다:\n",
    "\n",
    "\n"
   ]
  },
  {
   "cell_type": "code",
   "execution_count": 2,
   "metadata": {},
   "outputs": [
    {
     "name": "stdout",
     "output_type": "stream",
     "text": [
      "tensor([[0., 0., 0.],\n",
      "        [0., 0., 0.],\n",
      "        [0., 0., 0.],\n",
      "        [0., 0., 0.],\n",
      "        [0., 0., 0.]])\n",
      "torch.float32\n"
     ]
    }
   ],
   "source": [
    "z = torch.zeros(5, 3)\n",
    "print(z)\n",
    "print(z.dtype)"
   ]
  },
  {
   "cell_type": "markdown",
   "metadata": {},
   "source": [
    "위에서, 0으로 채워진 5x3 행렬을 만들고, 파이토치의 기본 타입인, \n",
    "0으로 채워진 32비트 부동소수점 데이터 타입인지 확인합니다.\n",
    "\n",
    "\n",
    "만약 정수형 데이터 타입을 원한다면 기본값을 재정의할 수 있습니다:\n",
    "\n",
    "\n"
   ]
  },
  {
   "cell_type": "code",
   "execution_count": 3,
   "metadata": {},
   "outputs": [
    {
     "name": "stdout",
     "output_type": "stream",
     "text": [
      "tensor([[1, 1, 1],\n",
      "        [1, 1, 1],\n",
      "        [1, 1, 1],\n",
      "        [1, 1, 1],\n",
      "        [1, 1, 1]], dtype=torch.int16)\n"
     ]
    }
   ],
   "source": [
    "i = torch.ones((5, 3), dtype=torch.int16)\n",
    "print(i)"
   ]
  },
  {
   "cell_type": "markdown",
   "metadata": {},
   "source": [
    "dtype의 기본값을 변경하면 tensor가 출력될 때 \n",
    "데이터 타입을 확인할 수 있습니다.\n",
    "\n",
    "\n",
    "학습 가중치를 무작위로 초기화하는 것이 일반적이며, \n",
    "종종 결과의 재현성을 위해 PRNG에 대한 특정 시드로 초기화합니다.\n",
    "\n",
    "\n"
   ]
  },
  {
   "cell_type": "code",
   "execution_count": 4,
   "metadata": {},
   "outputs": [
    {
     "name": "stdout",
     "output_type": "stream",
     "text": [
      "랜덤 tensor 값:\n",
      "tensor([[0.3126, 0.3791],\n",
      "        [0.3087, 0.0736]])\n",
      "\n",
      "다른 랜덤 tensor 값:\n",
      "tensor([[0.4216, 0.0691],\n",
      "        [0.2332, 0.4047]])\n",
      "\n",
      "r1과 일치:\n",
      "tensor([[0.3126, 0.3791],\n",
      "        [0.3087, 0.0736]])\n"
     ]
    }
   ],
   "source": [
    "torch.manual_seed(1729)\n",
    "r1 = torch.rand(2, 2)\n",
    "print('랜덤 tensor 값:')\n",
    "print(r1)\n",
    "\n",
    "r2 = torch.rand(2, 2)\n",
    "print('\\n다른 랜덤 tensor 값:')\n",
    "print(r2) # 새로운 2x2 행렬 값\n",
    "\n",
    "torch.manual_seed(1729)\n",
    "r3 = torch.rand(2, 2)\n",
    "print('\\nr1과 일치:')\n",
    "print(r3) # 동일한 시드값으로 인해 r1 값이 반복되어 행렬값으로 나옵니다."
   ]
  },
  {
   "cell_type": "markdown",
   "metadata": {},
   "source": [
    "PyTorch tensor는 산술 연산을 직관적으로 수행합니다.\n",
    "유사한 shape의 tensor들이 더하거나 곱하거나 그 외 연산도 가능합니다.\n",
    "스칼라를 사용한 연산은 tensor에 분산됩니다.\n",
    "\n",
    "\n"
   ]
  },
  {
   "cell_type": "code",
   "execution_count": 5,
   "metadata": {},
   "outputs": [
    {
     "name": "stdout",
     "output_type": "stream",
     "text": [
      "tensor([[1., 1., 1.],\n",
      "        [1., 1., 1.]])\n",
      "tensor([[2., 2., 2.],\n",
      "        [2., 2., 2.]])\n",
      "tensor([[3., 3., 3.],\n",
      "        [3., 3., 3.]])\n",
      "torch.Size([2, 3])\n"
     ]
    }
   ],
   "source": [
    "ones = torch.ones(2, 3)\n",
    "print(ones)\n",
    "\n",
    "twos = torch.ones(2, 3) * 2 # 모든 원소에 2를 곱합니다.\n",
    "print(twos)\n",
    "\n",
    "threes = ones + twos       # shape이 비슷하기 때문에 더할 수 있습니다.\n",
    "print(threes)              # tensor의 원소별 더한 값이 결과로 나옵니다.\n",
    "print(threes.shape)        # 입력 tensor와 동일한 차원을 가지고 있습니다.\n",
    "\n",
    "r1 = torch.rand(2, 3)\n",
    "r2 = torch.rand(3, 2)\n",
    "# 런타임 오류를 발생시키려면 아래 줄의 주석을 해제합니다.\n",
    "# r3 = r1 + r2"
   ]
  },
  {
   "cell_type": "markdown",
   "metadata": {},
   "source": [
    "다음은 사용 가능한 작은 수학 연산 예제 입니다:\n",
    "\n",
    "\n"
   ]
  },
  {
   "cell_type": "code",
   "execution_count": 6,
   "metadata": {},
   "outputs": [
    {
     "name": "stdout",
     "output_type": "stream",
     "text": [
      "랜덤 행렬값, r:\n",
      "tensor([[ 0.9956, -0.2232],\n",
      "        [ 0.3858, -0.6593]])\n",
      "\n",
      "r의 절대값:\n",
      "tensor([[0.9956, 0.2232],\n",
      "        [0.3858, 0.6593]])\n",
      "\n",
      "r의 역 사인 함수:\n",
      "tensor([[ 1.4775, -0.2251],\n",
      "        [ 0.3961, -0.7199]])\n",
      "\n",
      "r의 행렬식:\n",
      "tensor(-0.5703)\n",
      "\n",
      "r의 특이값 분해:\n",
      "torch.return_types.svd(\n",
      "U=tensor([[-0.8353, -0.5497],\n",
      "        [-0.5497,  0.8353]]),\n",
      "S=tensor([1.1793, 0.4836]),\n",
      "V=tensor([[-0.8851, -0.4654],\n",
      "        [ 0.4654, -0.8851]]))\n",
      "\n",
      "r의 평균 및 표준편차:\n",
      "(tensor(0.7217), tensor(0.1247))\n",
      "\n",
      "r의 최대값:\n",
      "tensor(0.9956)\n"
     ]
    }
   ],
   "source": [
    "r = (torch.rand(2, 2) - 0.5) * 2 # -1과 1 사이의 값을 가집니다.\n",
    "print('랜덤 행렬값, r:')\n",
    "print(r)\n",
    "\n",
    "# 일반적인 수학적 연산은 다음과 같이 지원됩니다:\n",
    "print('\\nr의 절대값:')\n",
    "print(torch.abs(r))\n",
    "\n",
    "# 삼각함수를 사용할 수 있습니다:\n",
    "print('\\nr의 역 사인 함수:')\n",
    "print(torch.asin(r))\n",
    "\n",
    "# 행렬식 및 특이값 분해와 같은 선형 대수 연산을 사용할 수 있습니다.\n",
    "print('\\nr의 행렬식:')\n",
    "print(torch.det(r))\n",
    "print('\\nr의 특이값 분해:')\n",
    "print(torch.svd(r))\n",
    "\n",
    "# 통계 및 집합 연산 등을 사용할 수 있습니다:\n",
    "print('\\nr의 평균 및 표준편차:')\n",
    "print(torch.std_mean(r))\n",
    "print('\\nr의 최대값:')\n",
    "print(torch.max(r))"
   ]
  },
  {
   "cell_type": "markdown",
   "metadata": {},
   "source": [
    "-----------------\n",
    "- 참고 pytorch youtube\n",
    "<img src = \"./data/automatic_different_engine.png\" width=150 height=150>"
   ]
  },
  {
   "cell_type": "code",
   "execution_count": 18,
   "metadata": {},
   "outputs": [
    {
     "name": "stdout",
     "output_type": "stream",
     "text": [
      "x : tensor([[-0.6475, -1.4986,  1.3422, -1.3032,  0.5242,  0.1168, -0.8668,  0.6578,\n",
      "         -0.0119, -1.1810]])\n",
      "prev_h : tensor([[-1.6155,  0.4423,  0.4034,  0.6088, -0.5154, -0.6348, -1.7480,  0.9457,\n",
      "         -0.3973, -0.6096,  0.2032, -1.1814,  0.0837,  1.4071, -0.2916, -0.2629,\n",
      "         -1.5270,  0.6898, -0.0748,  0.7775]])\n",
      "W_h : tensor([[ 0.3370, -0.4743, -0.0171,  0.5740, -1.0508,  1.8855, -0.6466, -0.6888,\n",
      "         -0.7056,  0.6825,  0.5355, -0.3820, -0.9840,  0.3722,  0.2008,  1.1391,\n",
      "          0.0037, -1.8076, -0.3638,  0.9302],\n",
      "        [ 0.6614, -0.6947,  0.7111, -1.1889, -1.0986, -0.7442,  0.5651, -1.6882,\n",
      "          0.8542,  0.0634,  0.9750,  0.0817, -1.3631, -0.1402, -1.0713,  1.4475,\n",
      "          0.5824, -1.1402, -1.1742, -1.1280],\n",
      "        [-1.6087, -0.5999, -0.1995,  0.1923,  1.7581, -1.7151, -0.7930,  0.2534,\n",
      "          0.6328,  0.7903,  0.1365, -1.6241,  0.0091,  0.8831,  0.3402,  0.7918,\n",
      "          0.2707,  0.4786,  0.5992, -0.6627],\n",
      "        [-0.5878,  0.1306,  1.3960,  0.7886, -1.0201, -0.9832,  0.2311,  0.3263,\n",
      "         -0.7733, -0.7255, -0.0778,  0.5022, -1.0036,  0.1524,  0.0795,  1.5629,\n",
      "          0.6143,  2.5059,  0.9873, -1.6788],\n",
      "        [-0.2386, -0.7261,  0.2586, -1.0128,  1.0441,  0.7111,  0.4513, -0.8203,\n",
      "          0.8637,  1.1496,  1.0126,  0.2249,  0.5207,  1.6944,  1.1811,  0.9565,\n",
      "         -0.0411, -0.5919,  0.6392,  0.1413],\n",
      "        [-0.2958,  1.2057,  0.4697, -1.6389, -0.1974, -1.0228,  0.3154, -0.3770,\n",
      "         -0.3109,  1.6237, -0.3755,  0.5963,  0.3072,  0.9585, -0.7504,  1.3869,\n",
      "          1.0812, -0.6355, -0.2966,  0.0916],\n",
      "        [ 2.2699, -0.2473, -1.1057, -1.1707,  0.1785, -1.4930, -0.0923, -0.2374,\n",
      "         -1.9353, -1.3294, -0.4176,  0.6186,  0.3561, -0.2287,  0.1564,  0.0399,\n",
      "          0.7581, -0.0255,  1.3738,  0.5836],\n",
      "        [ 0.7149, -0.3489, -0.2731, -0.7454, -0.0590,  0.6250,  1.3397,  0.3781,\n",
      "         -1.1246, -1.0730, -0.9570,  1.7345, -1.0250,  0.4119, -0.5459, -0.9765,\n",
      "         -1.3171,  0.0755, -2.0138, -0.6168],\n",
      "        [-0.1918, -0.2197,  0.2622, -0.8748,  0.4969, -0.5819, -1.0768,  3.2505,\n",
      "          0.3296,  1.1247, -1.2966, -0.2046,  0.4991, -0.1394, -2.0114, -1.1651,\n",
      "         -0.1026,  0.5843, -1.6417,  0.1601],\n",
      "        [ 0.1986,  0.6305, -0.4215,  0.3096, -1.4279, -1.0884,  0.0336, -1.0571,\n",
      "         -1.7046,  1.6215,  0.0658, -0.0745, -0.9179, -1.0632,  1.4999, -3.0359,\n",
      "          0.0516,  0.0376,  0.0823,  1.6725],\n",
      "        [-1.1794,  0.0736, -1.1265, -0.4097, -1.8125, -0.5020,  0.9709, -0.2845,\n",
      "          0.3938, -0.7043, -0.9175, -0.5023, -0.8129, -1.0047, -1.3271, -1.0270,\n",
      "         -1.0596, -1.0194,  0.7880,  1.0398],\n",
      "        [ 0.6565,  1.0588, -0.2803,  0.7561, -1.3779, -0.5183, -0.5443,  0.3917,\n",
      "          1.6080, -0.6105,  1.6257,  0.7297,  0.3589,  1.2156,  1.4425, -1.6609,\n",
      "         -0.7290, -0.8501,  0.8516, -0.2937],\n",
      "        [ 1.8599,  0.5768, -0.0405,  0.5765,  0.3905, -0.1705,  0.2977,  0.6684,\n",
      "          1.2326,  0.2531, -0.3198,  0.8734, -0.7153,  0.8863, -0.7783, -0.7332,\n",
      "          0.0498,  0.7981,  0.7205, -0.2492],\n",
      "        [ 0.2106, -0.7939, -1.2077,  1.3086, -1.4941, -0.8719,  0.5943, -0.9219,\n",
      "         -1.8318, -0.6021,  1.5278,  0.0631,  1.8224,  0.6359, -0.6648,  1.2493,\n",
      "          3.4205, -0.2791, -1.6374, -1.8115],\n",
      "        [ 0.5313, -0.4100,  0.3091, -0.6755, -1.0272,  0.6948,  0.5938,  0.3192,\n",
      "          0.1478,  0.1619, -0.9974, -0.0694, -1.0628, -1.1462, -1.1488,  1.3974,\n",
      "         -0.2238, -0.0086, -0.3162, -1.5956],\n",
      "        [ 0.0272, -0.6670, -1.3894, -0.6174, -0.3254,  0.5767, -0.6357, -1.1747,\n",
      "         -0.6390, -0.5729,  1.5300,  1.1868,  0.1506,  2.1682,  0.0442, -1.4995,\n",
      "         -1.6382,  0.7146,  0.5251,  0.7202],\n",
      "        [ 1.2979,  0.7415, -0.5729, -0.7494,  1.1610,  2.0147,  0.6917, -1.0436,\n",
      "         -0.2472, -1.9427,  0.2666, -0.8996,  0.6337,  0.6573,  0.5994, -1.4335,\n",
      "          0.2531,  0.3079,  0.2149,  0.5065],\n",
      "        [ 1.0789,  0.9997, -1.1264,  1.1598, -0.0111, -1.5003,  0.1919,  0.9827,\n",
      "         -0.0998, -0.7819, -0.2232,  1.5380,  0.0187, -0.3686,  0.0658,  0.5254,\n",
      "          0.9803,  1.5591,  0.7377,  1.6985],\n",
      "        [-0.8403, -0.0258,  0.5306, -0.2592, -2.1756, -0.4653, -0.0131, -2.2232,\n",
      "         -0.3578, -0.0368, -0.3455, -0.7251, -0.0974, -0.9222,  1.3437,  1.1999,\n",
      "         -0.3907,  0.2878, -1.1270,  0.4551],\n",
      "        [-1.8322,  0.3724,  0.6429,  0.0678, -2.2713,  0.0624,  1.0105, -1.0818,\n",
      "         -0.9736,  0.6750,  1.8799,  1.2441, -0.8258,  1.4228, -0.3585, -1.2114,\n",
      "         -1.0692, -1.7185, -0.6324,  1.4992]])\n",
      "W_x : tensor([[-3.5189e-01, -1.0642e+00, -9.4290e-01,  4.2393e-01, -1.4343e+00,\n",
      "          1.1001e-01, -1.1767e+00, -4.8550e-01, -1.5942e+00,  1.1095e+00],\n",
      "        [-1.3749e+00,  7.5345e-01,  1.0436e+00,  6.3109e-01, -1.9386e+00,\n",
      "         -7.0242e-01,  3.8523e-01,  1.4676e+00,  2.9652e-01, -3.6031e-01],\n",
      "        [ 2.5928e+00,  5.0607e-01, -1.5731e+00, -1.0728e-01,  1.0877e+00,\n",
      "          6.4303e-01, -1.5856e-01, -1.4923e+00, -3.2947e-01, -3.6659e-01],\n",
      "        [-2.1835e+00, -6.9267e-01, -7.0975e-01, -6.6019e-01, -1.0710e+00,\n",
      "         -4.0556e-02, -3.2698e-01, -5.7856e-01,  2.2458e-01, -1.8860e-01],\n",
      "        [-8.3733e-01,  1.0126e+00,  1.3053e+00, -1.7536e-01, -7.0608e-01,\n",
      "         -4.0487e-02,  1.9493e-01, -1.3744e+00,  2.3027e+00, -1.1131e+00],\n",
      "        [ 5.4368e-01, -7.8721e-01, -1.7908e+00, -2.9923e-01,  1.6359e+00,\n",
      "         -1.5971e+00,  1.4381e-01, -7.1321e-01, -1.4602e+00,  1.3345e+00],\n",
      "        [ 1.8247e-03, -1.4499e+00, -3.5575e-01, -3.9329e-01,  2.5150e-01,\n",
      "         -1.3166e+00,  1.0287e+00, -1.0020e+00,  2.1441e+00, -8.7625e-01],\n",
      "        [ 3.9705e-01,  1.2453e-01,  8.7338e-01, -9.5321e-02,  1.5258e-01,\n",
      "          5.5815e-01, -7.3833e-02,  2.6035e-01, -7.8181e-01, -1.4281e+00],\n",
      "        [-1.5766e-01, -3.1103e-01, -3.2930e-01, -1.5250e-01,  7.7462e-01,\n",
      "         -1.5417e-01,  8.6806e-01, -4.9493e-01,  6.6374e-01,  7.1119e-01],\n",
      "        [ 1.9199e+00, -1.0231e+00, -1.4143e+00, -6.7749e-01,  1.1942e+00,\n",
      "          7.8838e-01, -2.3092e+00, -3.6011e-01, -1.6674e+00, -1.1818e-01],\n",
      "        [ 6.7100e-01, -1.1364e+00, -6.7355e-02,  4.7428e-01, -3.5478e-01,\n",
      "         -1.0123e-01,  3.7353e-01, -2.2639e-03, -9.7840e-01,  8.4069e-01],\n",
      "        [-6.6457e-01,  8.8041e-01, -5.2430e-01, -8.2278e-01, -5.5301e-01,\n",
      "          2.5282e-01, -1.3006e+00, -1.3998e+00,  1.5265e+00,  1.3013e+00],\n",
      "        [ 2.2134e+00, -7.3412e-01,  4.9728e-01, -4.8454e-01, -9.1753e-01,\n",
      "         -5.4535e-01,  1.5380e+00,  3.7118e-01, -1.0093e+00, -9.3618e-02],\n",
      "        [-1.1977e+00,  9.9478e-01, -1.5621e+00,  6.1928e-01,  1.8807e-01,\n",
      "         -3.2286e-01, -2.4903e-01, -1.3783e-01,  2.5164e+00, -8.7961e-01],\n",
      "        [ 6.6108e-01,  1.9871e-01,  1.3850e+00, -2.2902e+00, -1.1798e+00,\n",
      "          5.7616e-01, -1.6536e+00, -8.2024e-01,  4.0840e-01,  3.6133e-01],\n",
      "        [-5.5664e-01, -5.9634e-01, -4.8084e-01, -3.5749e-02,  8.8097e-01,\n",
      "         -2.9611e-02,  6.6574e-01, -1.7957e+00,  2.0889e+00, -1.2672e+00],\n",
      "        [ 4.5876e-01,  4.8558e-01, -6.5428e-01,  4.9567e-01,  2.2294e-01,\n",
      "         -1.9293e+00, -1.2462e+00, -1.1168e+00, -9.5213e-01, -9.3088e-01],\n",
      "        [ 7.3826e-01, -2.3548e-01, -4.6925e-01, -4.5066e-01,  2.1104e+00,\n",
      "          8.3999e-01,  1.6235e+00,  2.8265e-01, -6.0694e-01,  1.9720e-01],\n",
      "        [ 8.3159e-01,  3.5146e-01,  3.5199e-01,  1.2861e+00,  1.0167e+00,\n",
      "         -1.6115e-01, -3.5482e-01, -1.2203e+00, -7.8224e-03,  8.2587e-01],\n",
      "        [ 5.4795e-01,  2.3098e-01, -2.8533e-01,  7.8066e-01,  7.0215e-02,\n",
      "         -1.1911e+00,  5.8791e-01,  4.3146e-01,  1.3916e+00,  2.1955e+00]])\n",
      "i2h : tensor([[-1.3251],\n",
      "        [ 0.2947],\n",
      "        [-4.1710],\n",
      "        [ 1.9163],\n",
      "        [ 0.8446],\n",
      "        [-2.6677],\n",
      "        [ 1.6432],\n",
      "        [ 2.9291],\n",
      "        [-1.2129],\n",
      "        [ 1.9168],\n",
      "        [-0.9443],\n",
      "        [-2.1293],\n",
      "        [-0.5451],\n",
      "        [-2.4242],\n",
      "        [ 4.0289],\n",
      "        [ 0.8271],\n",
      "        [-1.2011],\n",
      "        [-0.4104],\n",
      "        [-3.2250],\n",
      "        [-5.0388]])\n",
      "h2h : tensor([[-0.5824],\n",
      "        [-6.4790],\n",
      "        [ 5.6845],\n",
      "        [ 2.3538],\n",
      "        [-2.5573],\n",
      "        [-2.3682],\n",
      "        [-4.5511],\n",
      "        [-2.7225],\n",
      "        [ 5.5620],\n",
      "        [ 0.1646],\n",
      "        [ 2.0400],\n",
      "        [ 3.3089],\n",
      "        [-2.3032],\n",
      "        [-5.4269],\n",
      "        [-4.8674],\n",
      "        [ 4.9985],\n",
      "        [-2.7463],\n",
      "        [-0.6737],\n",
      "        [ 0.9108],\n",
      "        [ 4.6705]])\n",
      "tanh 도입 전 next_h : tensor([[-1.9075],\n",
      "        [-6.1843],\n",
      "        [ 1.5135],\n",
      "        [ 4.2701],\n",
      "        [-1.7126],\n",
      "        [-5.0359],\n",
      "        [-2.9079],\n",
      "        [ 0.2066],\n",
      "        [ 4.3491],\n",
      "        [ 2.0814],\n",
      "        [ 1.0957],\n",
      "        [ 1.1796],\n",
      "        [-2.8483],\n",
      "        [-7.8511],\n",
      "        [-0.8385],\n",
      "        [ 5.8256],\n",
      "        [-3.9475],\n",
      "        [-1.0841],\n",
      "        [-2.3142],\n",
      "        [-0.3682]])\n",
      "tanh 도입 후 next_h : tensor([[-0.9569],\n",
      "        [-1.0000],\n",
      "        [ 0.9076],\n",
      "        [ 0.9996],\n",
      "        [-0.9370],\n",
      "        [-0.9999],\n",
      "        [-0.9941],\n",
      "        [ 0.2037],\n",
      "        [ 0.9997],\n",
      "        [ 0.9693],\n",
      "        [ 0.7990],\n",
      "        [ 0.8273],\n",
      "        [-0.9933],\n",
      "        [-1.0000],\n",
      "        [-0.6850],\n",
      "        [ 1.0000],\n",
      "        [-0.9993],\n",
      "        [-0.7947],\n",
      "        [-0.9806],\n",
      "        [-0.3525]])\n",
      "<built-in method sum of Tensor object at 0x000001FD224E8458>\n"
     ]
    }
   ],
   "source": [
    "# automatic_different_engine \n",
    "x = torch.randn(1, 10)\n",
    "prev_h = torch.randn(1, 20)\n",
    "W_h = torch.randn(20, 20)\n",
    "W_x = torch.randn(20, 10)\n",
    "print(f\"x : {x}\")\n",
    "print(f\"prev_h : {prev_h}\")\n",
    "print(f\"W_h : {W_h}\")\n",
    "print(f\"W_x : {W_x}\")\n",
    "\n",
    "i2h = torch.mm(W_x, x.t())\n",
    "h2h = torch.mm(W_h, prev_h.t())\n",
    "print(f\"i2h : {i2h}\")\n",
    "print(f\"h2h : {h2h}\")\n",
    "next_h= i2h + h2h\n",
    "print(f\"tanh 도입 전 next_h : {next_h}\")\n",
    "next_h = next_h.tanh()\n",
    "print(f\"tanh 도입 후 next_h : {next_h}\")\n",
    "\n",
    "loss = next_h.sum\n",
    "print(loss)\n",
    "loss.backward() # 이 코드 하나로 위의 코드를 실행 할 수 있음.\n"
   ]
  },
  {
   "cell_type": "markdown",
   "metadata": {},
   "source": [
    "GPU에서 병렬 연산을 위해 설정하는 방법을 포함하여 \n",
    "PyTorch tensor의 강력함에 대해 알아야 할 것이 있습니다.\n",
    "이 내용은 다른 영상에서 자세히 살펴보겠습니다.\n",
    "\n",
    "PyTorch Models\n",
    "--------------\n",
    "\n",
    "PyTorch Model 영상은 `10:00 <https://www.youtube.com/watch?v=IC0_FRiX-sw&t=600s>`__ \n",
    "에 시작합니다.\n",
    "\n",
    "PyTorch에서 Model을 표현할 수 있는 방법에 대해 알아보겠습니다.\n",
    "\n",
    "\n"
   ]
  },
  {
   "cell_type": "code",
   "execution_count": 7,
   "metadata": {},
   "outputs": [],
   "source": [
    "import torch                     # PyTorch 모든 모듈 가져오기\n",
    "import torch.nn as nn            # torch.nn.Module의 경우 PyTorch model의 부모 객체\n",
    "import torch.nn.functional as F  # 활성화 함수 모듈 가져오기"
   ]
  },
  {
   "cell_type": "markdown",
   "metadata": {},
   "source": [
    "<img src = \"./data/LeNet-5.png\">\n",
    "*그림: LeNet-5*\n",
    "\n",
    "LeNet-5의 다이어그램은 초기 합성곱 신경망 중 하나이자 딥 러닝에서 \n",
    "폭발적인 인기를 일으킨 요인중 하나입니다. 손으로 쓴 숫자 \n",
    "이미지(MNIST 데이터셋)를 읽고 이미지에 어떤 숫자가 표현되었는지 정확하게\n",
    "분류하기 위해 제작되었습니다.\n",
    "\n",
    "LeNet-5가 어떻게 동작하는지에 대한 간단한 설명은 다음과 같습니다:\n",
    "\n",
    "-  계층 C1은 합성곱 계층입니다. 즉, 입력 이미지에서 학습 중에 배웠던 특징을 검색합니다.\n",
    "   이미지에서 학습된 각 특징을 위치에 대한 출력 맵을 보여줍니다. \n",
    "   이 “활성화 맵” 으로 S2 계층에서 다운샘플링됩니다.\n",
    "-  계층 C3는 다른 합성곱 계층으로, 이 시점은 특징들의 *조합* 을 위해 C1 활성화 맵 검색합니다.\n",
    "   또한, 계층 S4에서 다운샘플링된 이러한 특징 조합의 spatial locations을 제공합니다.\n",
    "-  마지막으로, 완전 연결 계층(fully-connected layers)인 F5, F6, OUTPUT은 최종 활성화 맵을\n",
    "   가져와 십진수를 표현하는 10개의 bin 중 하나로 *분류* 하는 분류기입니다.\n",
    "\n",
    "이 간단한 신경망을 코드로 어떻게 표현할 수 있을까요?\n",
    "\n",
    "\n"
   ]
  },
  {
   "cell_type": "code",
   "execution_count": 8,
   "metadata": {},
   "outputs": [],
   "source": [
    "class LeNet(nn.Module):\n",
    "\n",
    "    def __init__(self):\n",
    "        super(LeNet, self).__init__()\n",
    "        # 입력 이미지 채널, 6개의 output 채널, 3x3 정방 합성곱 커널을 사용합니다.\n",
    "        self.conv1 = nn.Conv2d(1, 6, 3)\n",
    "        self.conv2 = nn.Conv2d(6, 16, 3)\n",
    "        # 아핀 변환: y = Wx + b\n",
    "        self.fc1 = nn.Linear(16 * 6 * 6, 120)  # 6*6 이미지 차원\n",
    "        self.fc2 = nn.Linear(120, 84)\n",
    "        self.fc3 = nn.Linear(84, 10)\n",
    "\n",
    "    def forward(self, x):\n",
    "        # 최대 풀링은 (2, 2) 윈도우 크기를 사용합니다.\n",
    "        x = F.max_pool2d(F.relu(self.conv1(x)), (2, 2))\n",
    "        # 크기가 정방 사이즈인 경우, 단일 숫자만 지정할 수 있습니다.\n",
    "        x = F.max_pool2d(F.relu(self.conv2(x)), 2)\n",
    "        x = x.view(-1, self.num_flat_features(x))\n",
    "        x = F.relu(self.fc1(x))\n",
    "        x = F.relu(self.fc2(x))\n",
    "        x = self.fc3(x)\n",
    "        return x\n",
    "\n",
    "    def num_flat_features(self, x):\n",
    "        size = x.size()[1:]  # 크기는 배치 차원을 제외한 모든 차원을 가져옵니다.\n",
    "        num_features = 1\n",
    "        for s in size:\n",
    "            num_features *= s\n",
    "        return num_features"
   ]
  },
  {
   "cell_type": "markdown",
   "metadata": {},
   "source": [
    "코드를 살펴보면 구조적으로 위 다이어그램과 유사점을\n",
    "발견할 수 있습니다.\n",
    "\n",
    "다음은 일반적인 PyTorch 모델의 구조를 보여줍니다: \n",
    "\n",
    "-  모듈은 중첩될 수 있으며 ``torch.nn.Module`` 에서 상속됩니다. - 실제로,\n",
    "   ``Conv2d`` 와 ``Linear`` 계층 클래스도 ``torch.nn.Module`` 에서\n",
    "   상속됩니다.\n",
    "-  모델은 계층을 인스턴스화하고 필요한 데이터 아티팩트를 로드하는 \n",
    "   ``__init__()`` 함수를 가지고 있습니다. (예를들면 NLP 모델은 어휘를 불러올 수 있음)\n",
    "-  모델은 ``forward()`` 함수를 가지고 있다. 여기서 실제 계산이 수행됩니다.\n",
    "   입력은 네트워크 계층 및 다양한 기능들을 통과시켜 결과를 생성합니다.\n",
    "-  그 외에는 다른 파이썬 클래스처럼 모델 클래스를 구성할 수 있습니다.\n",
    "   Python 클래스, 모델의 계산을 지원하는 데 필요한 속성 및 메서드를 추가합니다.\n",
    "\n",
    "자 이제 만든 오브젝트를 인스턴스화하고 샘플 입력을 통해 실행합니다.\n",
    "\n",
    "\n"
   ]
  },
  {
   "cell_type": "code",
   "execution_count": 9,
   "metadata": {},
   "outputs": [
    {
     "name": "stdout",
     "output_type": "stream",
     "text": [
      "LeNet(\n",
      "  (conv1): Conv2d(1, 6, kernel_size=(3, 3), stride=(1, 1))\n",
      "  (conv2): Conv2d(6, 16, kernel_size=(3, 3), stride=(1, 1))\n",
      "  (fc1): Linear(in_features=576, out_features=120, bias=True)\n",
      "  (fc2): Linear(in_features=120, out_features=84, bias=True)\n",
      "  (fc3): Linear(in_features=84, out_features=10, bias=True)\n",
      ")\n",
      "\n",
      "이미지 배치 shape:\n",
      "torch.Size([1, 1, 32, 32])\n",
      "\n",
      ":결과 값\n",
      "tensor([[ 0.0639, -0.0646, -0.0593, -0.0054, -0.0212, -0.0529, -0.1144,  0.0339,\n",
      "          0.0838,  0.0405]], grad_fn=<AddmmBackward0>)\n",
      "torch.Size([1, 10])\n"
     ]
    }
   ],
   "source": [
    "net = LeNet()\n",
    "print(net)                         # 인스턴스한 객체를 출력하면 어떤 값을 보여줄까요?\n",
    "\n",
    "input = torch.rand(1, 1, 32, 32)   # 32x32 크기의 1채널의 흑백 이미지를 만듭니다.\n",
    "print('\\n이미지 배치 shape:')\n",
    "print(input.shape)\n",
    "\n",
    "output = net(input)                # 객체로부터 직접 forward() 함수를 호출하지 않습니다.\n",
    "print('\\n:결과 값')\n",
    "print(output)\n",
    "print(output.shape)"
   ]
  },
  {
   "cell_type": "markdown",
   "metadata": {},
   "source": [
    "위에서 몇가지 중요한 일들이 일어나고 있습니다.\n",
    "\n",
    "첫째, ``LeNet`` 클래스를 인스턴스화하고 ``net`` 객체를 출력합니다.\n",
    "``torch.nn.Module`` 의 하위 클래스는 생성된 레이어의 모양과 파라미터를 알려줍니다.\n",
    "모델의 처리 결과를 얻으려는 경우, 모델의 편리한 기능을 제공할 수 있습니다.\n",
    "\n",
    "아래에서 1 채널과 32x32 이미지크기를 가진 더미 입력을 생성합니다.\n",
    "일반적으로 배치 이미지를읽어들이고,이미지와 같은 크기의 텐서로 변환합니다.\n",
    "\n",
    "tensor 의 추가 차원인 *batch 차원* 을 알아챘을 수 있습니다.\n",
    "PyTorch 모델은 데이터의 *batch* 에 작업한다고 가정합니다. 예를들어 \n",
    "16개 이미지의 배치는 ``(1, 1, 32, 32)`` 모양을 가질 것입니다.\n",
    "이 샘플에서는 하나의 이미지만 사용하기 때문에 ``(1, 1, 32, 32)`` 모양을 가진 \n",
    "batch를 만듭니다.\n",
    "\n",
    "모델을 함수처럼 ``net(input)`` 를 호출하여 추론을 요청합니다:\n",
    "호출의 결과는 입력 이미지가 특정 숫자를 나타내는 모델의 신뢰도를 나타냅니다.\n",
    "(모델의 인스턴스는 아직 아무것도 학습하지 않았기 때문에 출력에서 좋은 결과를\n",
    "기대해서는 안 됩니다) **``output`` 결과**를 확인해보면 batch 차원을 가지고 있다는 \n",
    "것을 알 수 있는데, 크기는 항상 **입력 batch 차원과 일치**해야 합니다.\n",
    "만약 16개의 인스턴스로 이루어진 입력으로 모델을 통과했다면 ``output`` 는\n",
    "``(16, 10)`` 의 형태를 가지고 있습니다.\n",
    "\n",
    "Datasets 및 Dataloaders\n",
    "------------------------\n",
    "\n",
    "`14:00 <https://www.youtube.com/watch?v=IC0_FRiX-sw&t=840s>`__ 에 시작하는 영상을 시청하세요.\n",
    "\n",
    "아래 예제에서는 TorchVision에서 바로 다운로드할 수 있는 오픈 데이터셋 중 하나를 \n",
    "사용하여 모델을 통해 이미지를 변환하는 방법, DataLoader를 사용하여 모델에 데이터 배치를 제공하는 \n",
    "방법을 학습합니다.\n",
    "\n",
    "첫 번째 할 일은 들어오는 이미지를 Pytorch tensor로 변환하는 것입니다.\n",
    "\n",
    "\n"
   ]
  },
  {
   "cell_type": "code",
   "execution_count": 19,
   "metadata": {},
   "outputs": [],
   "source": [
    "#%matplotlib inline\n",
    "\n",
    "import torch\n",
    "import torchvision\n",
    "import torchvision.transforms as transforms\n",
    "\n",
    "transform = transforms.Compose(\n",
    "    [transforms.ToTensor(),\n",
    "     transforms.Normalize((0.5, 0.5, 0.5), (0.5, 0.5, 0.5))])"
   ]
  },
  {
   "cell_type": "markdown",
   "metadata": {},
   "source": [
    "여기서는 입력에 대한 두 가지 변환을 지정합니다:\n",
    "\n",
    "-  ``transforms.ToTensor()``는 Pillow 패키지를 사용하여 불러온 이미지를\n",
    "   PyTorch tensor 형태로 변환합니다.\n",
    "-  ``transforms.Normalize()`` 는 tensor의 평균이 0이고 표준 편차가 0.5가 \n",
    "     되도록 tensor의 값을 조정합니다.\n",
    "     대부분의 활성화 함수는 약 x=0에 강한 기울기 값을 가지고 있어 데이터를 \n",
    "     중앙으로 집중화하여 학습 속도를 높일 수 있습니다.\n",
    "\n",
    "transforms 는 cropping, centering, rotation, reflection를 포함하여 더 많은\n",
    "변환이 가능합니다.\n",
    "\n",
    "다음으로 CIFAR10 데이터셋의 인스턴스를 만듭니다. CIFAR10 데이터셋은 동물(새, \n",
    "고양이, 사슴, 개, 개구리, 말) 6종과 차량(비행기, 자동차, 배, 트럭) 4종의 \n",
    "클래스로 이루어진 데이터셋입니다:\n",
    "\n",
    "\n"
   ]
  },
  {
   "cell_type": "code",
   "execution_count": 20,
   "metadata": {},
   "outputs": [
    {
     "name": "stdout",
     "output_type": "stream",
     "text": [
      "Downloading https://www.cs.toronto.edu/~kriz/cifar-10-python.tar.gz to ./data\\cifar-10-python.tar.gz\n"
     ]
    },
    {
     "name": "stderr",
     "output_type": "stream",
     "text": [
      "100.0%\n"
     ]
    },
    {
     "name": "stdout",
     "output_type": "stream",
     "text": [
      "Extracting ./data\\cifar-10-python.tar.gz to ./data\n"
     ]
    }
   ],
   "source": [
    "trainset = torchvision.datasets.CIFAR10(root='./data', train=True,\n",
    "                                        download=True, transform=transform)"
   ]
  },
  {
   "cell_type": "markdown",
   "metadata": {},
   "source": [
    ".. 참고::\n",
    "     위 셀을 실행하여 데이터셋이 다운로드시 약간의 시간이 걸릴 수 있습니다.\n",
    "\n",
    "PyTorch에서 데이터셋 객체를 만드는 예제입니다. 다운로드 가능한 데이터셋\n",
    "(CIFAR-10과 같은)는 ``torch.utils.data.Dataset`` 의 하위 클래스입니다.\n",
    "PyTorch의 ``Dataset`` 클래스에는 TorchVision, Torchtext 및 TorchAudio 등\n",
    "다운로드 가능한 데이터셋 뿐 아니라 레이블된 이미지의 폴더를 읽는 \n",
    "``torchvision.datasets.ImageFolder`` 와 같은 유틸리티 데이터셋 클래스가 \n",
    "포함됩니다. 또한, ``Dataset`` 의 하위 클래스를 직접 만들 수 있습니다.\n",
    "\n",
    "데이터셋을 **인스턴스화**할 때 몇 가지 파라미터를 선언해야 합니다.\n",
    "\n",
    "-  1. 데이터를 저장하려는 파일 시스템 경로입니다. \n",
    "-  2. 데이터셋을 학습에 사용하는지 여부를 확인하여 대부분의 데이터셋은 \n",
    "   학습 및 테스트 데이터셋으로 분할됩니다.\n",
    "-  3. 데이터셋을 다운로드할지에 대한 여부를 확인합니다.\n",
    "-  4. 데이터에 적용하려는 변환 객체를 넣어줍니다.\n",
    "\n",
    "데이터셋 다운로드가 끝나면 ``DataLoader``에 사용할 수 있습니다:\n",
    "\n",
    "\n"
   ]
  },
  {
   "cell_type": "code",
   "execution_count": 21,
   "metadata": {},
   "outputs": [],
   "source": [
    "trainloader = torch.utils.data.DataLoader(trainset, batch_size=4,\n",
    "                                          shuffle=True, num_workers=2)"
   ]
  },
  {
   "cell_type": "markdown",
   "metadata": {},
   "source": [
    "``Dataset`` 하위 클래스는 데이터 접근에 대한 클래스를 포함하며, 해당 서브 \n",
    "클래스가 제공하는 데이터 유형에 특화되어 있습니다.\n",
    "``DataLoader`` 는 데이터에 대해 *아무것도* 알지 못하지만 \n",
    "``Dataset`` 이 제공하는 입력 tensor를 사용자가 지정한 파라미터로 구성합니다.\n",
    "\n",
    "위 예제에서 ``DataLoader`` 에서에서 무작위 추출( ``shuffle=True`` )한 4개의 \n",
    "batch 이미지를 ``trainset`` 에서 추출하고 disk에서 데이터를 로드하기 \n",
    "위해 2개의 workers를 spin up 했습니다.\n",
    "\n",
    "``DataLoader`` 가 제공하는 batch 이미지를 시각화 하는것은 좋은 연습입니다:\n",
    "\n",
    "\n"
   ]
  },
  {
   "cell_type": "code",
   "execution_count": 25,
   "metadata": {},
   "outputs": [
    {
     "name": "stdout",
     "output_type": "stream",
     "text": [
      " frog horse  deer   car\n"
     ]
    },
    {
     "data": {
      "image/png": "[encoded data removed]",
      "text/plain": [
       "<Figure size 640x480 with 1 Axes>"
      ]
     },
     "metadata": {},
     "output_type": "display_data"
    }
   ],
   "source": [
    "import matplotlib.pyplot as plt\n",
    "import numpy as np\n",
    "\n",
    "classes = ('plane', 'car', 'bird', 'cat',\n",
    "           'deer', 'dog', 'frog', 'horse', 'ship', 'truck')\n",
    "\n",
    "def imshow(img):\n",
    "    img = img / 2 + 0.5     # 역정규화\n",
    "    npimg = img.numpy()\n",
    "    plt.imshow(np.transpose(npimg, (1, 2, 0)))\n",
    "\n",
    "\n",
    "# next(iter(data)) : reference 1.\n",
    "# 무작위로 학습 이미지 추출하기\n",
    "dataiter = iter(trainloader) # train 이미지 호출\n",
    "images, labels = next(iter(trainloader)) # 기존의 코드 images, labels = dataiter.next()\n",
    "\n",
    "# make_grid : reference 2. \n",
    "# 이미지 보여주기\n",
    "imshow(torchvision.utils.make_grid(images))\n",
    "\n",
    "# labels 출력하기\n",
    "print(' '.join('%5s' % classes[labels[j]] for j in range(4)))\n",
    "# 글자를 5개로 제한, class안에 있는 라벨을 4개까지 출력"
   ]
  },
  {
   "cell_type": "markdown",
   "metadata": {},
   "source": [
    "위 셀 스크립트를 실행하면 4개의 이미지와 각 이미지에 대한 정답 label이 \n",
    "출력됩니다.\n",
    "\n",
    "PyTorch 모델 학습\n",
    "---------------------------\n",
    "\n",
    "`17:10 <https://www.youtube.com/watch?v=IC0_FRiX-sw&t=1030s>`__ 에 시작하는 \n",
    "영상을 참고하세요.\n",
    "\n",
    "위에서 다뤘던 내용들을 종합하여 모델을 학습시키겠습니다:\n",
    "\n",
    "\n"
   ]
  },
  {
   "cell_type": "code",
   "execution_count": 26,
   "metadata": {},
   "outputs": [],
   "source": [
    "#%matplotlib inline\n",
    "\n",
    "import torch\n",
    "import torch.nn as nn\n",
    "import torch.nn.functional as F\n",
    "import torch.optim as optim\n",
    "\n",
    "import torchvision\n",
    "import torchvision.transforms as transforms\n",
    "\n",
    "import matplotlib\n",
    "import matplotlib.pyplot as plt\n",
    "import numpy as np"
   ]
  },
  {
   "cell_type": "markdown",
   "metadata": {},
   "source": [
    "첫째로, 학습 및 테스트 데이터셋이 필요합니다. 아직 다운로드하지 않은 경우, \n",
    "아래 셀을 실행하여 데이터셋이 다운로드 되었는지 확인하세요.(다운로드 시\n",
    "수 분정도 소요됩니다)\n",
    "\n",
    "\n"
   ]
  },
  {
   "cell_type": "code",
   "execution_count": 27,
   "metadata": {},
   "outputs": [
    {
     "name": "stdout",
     "output_type": "stream",
     "text": [
      "Files already downloaded and verified\n",
      "Files already downloaded and verified\n"
     ]
    }
   ],
   "source": [
    "transform = transforms.Compose(\n",
    "    [transforms.ToTensor(),\n",
    "     transforms.Normalize((0.5, 0.5, 0.5), (0.5, 0.5, 0.5))])\n",
    "\n",
    "trainset = torchvision.datasets.CIFAR10(root='./data', train=True,\n",
    "                                        download=True, transform=transform)\n",
    "trainloader = torch.utils.data.DataLoader(trainset, batch_size=4,\n",
    "                                          shuffle=True, num_workers=2)\n",
    "\n",
    "testset = torchvision.datasets.CIFAR10(root='./data', train=False,\n",
    "                                       download=True, transform=transform)\n",
    "testloader = torch.utils.data.DataLoader(testset, batch_size=4,\n",
    "                                         shuffle=False, num_workers=2)\n",
    "\n",
    "classes = ('plane', 'car', 'bird', 'cat',\n",
    "           'deer', 'dog', 'frog', 'horse', 'ship', 'truck')"
   ]
  },
  {
   "cell_type": "markdown",
   "metadata": {},
   "source": [
    "``DataLoader`` 출력을 확인해보겠습니다:\n",
    "\n",
    "\n"
   ]
  },
  {
   "cell_type": "code",
   "execution_count": 29,
   "metadata": {},
   "outputs": [
    {
     "name": "stdout",
     "output_type": "stream",
     "text": [
      "  dog plane  frog plane\n"
     ]
    },
    {
     "data": {
      "image/png": "[encoded data removed]",
      "text/plain": [
       "<Figure size 640x480 with 1 Axes>"
      ]
     },
     "metadata": {},
     "output_type": "display_data"
    }
   ],
   "source": [
    "import matplotlib.pyplot as plt\n",
    "import numpy as np\n",
    "\n",
    "# 아래 함수는 이미지를 시각화하여 보여주는 함수입니다.\n",
    "\n",
    "\n",
    "def imshow(img):\n",
    "    img = img / 2 + 0.5     # 역정규화\n",
    "    npimg = img.numpy()\n",
    "    plt.imshow(np.transpose(npimg, (1, 2, 0)))\n",
    "\n",
    "\n",
    "# 무작위로 학습 이미지를 가져오기\n",
    "dataiter = iter(trainloader)\n",
    "images, labels = next(iter(trainloader))\n",
    "\n",
    "# 이미지 시각화하기\n",
    "imshow(torchvision.utils.make_grid(images))\n",
    "# 정답 label 출력하기\n",
    "print(' '.join('%5s' % classes[labels[j]] for j in range(4)))"
   ]
  },
  {
   "cell_type": "markdown",
   "metadata": {},
   "source": [
    "이제 모델을 학습시킬 차례입니다. \n",
    "만약 모델 구조가 익숙하게 보인다면, 이 모델은 이번 영상에서 앞서 다뤄진 3채널(color) 이미지에 맞게 변형된 LeNet 모델이기 때문입니다.\n",
    "\n",
    "\n"
   ]
  },
  {
   "cell_type": "code",
   "execution_count": 33,
   "metadata": {},
   "outputs": [
    {
     "name": "stdout",
     "output_type": "stream",
     "text": [
      "Net(\n",
      "  (conv1): Conv2d(3, 6, kernel_size=(5, 5), stride=(1, 1))\n",
      "  (pool): MaxPool2d(kernel_size=2, stride=2, padding=0, dilation=1, ceil_mode=False)\n",
      "  (conv2): Conv2d(6, 16, kernel_size=(5, 5), stride=(1, 1))\n",
      "  (fc1): Linear(in_features=400, out_features=120, bias=True)\n",
      "  (fc2): Linear(in_features=120, out_features=84, bias=True)\n",
      "  (fc3): Linear(in_features=84, out_features=10, bias=True)\n",
      ")\n"
     ]
    }
   ],
   "source": [
    "class Net(nn.Module):\n",
    "    def __init__(self):\n",
    "        super(Net, self).__init__()\n",
    "        self.conv1 = nn.Conv2d(3, 6, 5) # COnv \n",
    "        self.pool = nn.MaxPool2d(2, 2) # MaxPool\n",
    "        self.conv2 = nn.Conv2d(6, 16, 5) # Conv\n",
    "        self.fc1 = nn.Linear(16 * 5 * 5, 120) # Linear\n",
    "        self.fc2 = nn.Linear(120, 84) # Linear\n",
    "        self.fc3 = nn.Linear(84, 10) # Linear\n",
    "\n",
    "    def forward(self, x): # 순전파\n",
    "        x = self.pool(F.relu(self.conv1(x))) \n",
    "        x = self.pool(F.relu(self.conv2(x)))\n",
    "        x = x.view(-1, 16 * 5 * 5)\n",
    "        x = F.relu(self.fc1(x)) # relu 사용\n",
    "        x = F.relu(self.fc2(x))\n",
    "        x = self.fc3(x)\n",
    "        return x\n",
    "\n",
    "\n",
    "net = Net()\n",
    "print(net)"
   ]
  },
  {
   "cell_type": "markdown",
   "metadata": {},
   "source": [
    "아래는 마지막으로 학습에 필요한 손실 함수 및 최적화 방법입니다.\n",
    "\n",
    "\n"
   ]
  },
  {
   "cell_type": "code",
   "execution_count": 34,
   "metadata": {},
   "outputs": [],
   "source": [
    "criterion = nn.CrossEntropyLoss() # crossEntropyloss 선언\n",
    "optimizer = optim.SGD(net.parameters(), lr=0.001, momentum=0.9) # SGD 경사하강법 사용"
   ]
  },
  {
   "cell_type": "markdown",
   "metadata": {},
   "source": [
    "손실 함수(loss function)는 데이터 기반으로 모델이 예측한 정답 값이 얼마나 차이가 \n",
    "나는지를 표현하는 지표입니다. Cross-entropy 손실 함수는 일반적인 분류 모델의 \n",
    "전형적인 손실 함수입니다.\n",
    "\n",
    "**optimizer** 는 학습의 필수요소입니다. 아래 예제에서 간단한 최적화 알고리즘인 \n",
    "*stochastic gradient descent* 를 구현하겠습니다. SGD 알고리짐은 학습 속도인\n",
    "(``lr``) 및 momentum 과 같은 매개 변수 외에도 모델의 모든 학습 가중치 값인 \n",
    "``net.parameters()`` 를 전달하는데, 이 함수는 최적화를 위해 파라미터를 조정합니다.\n",
    "\n",
    "마지막으로, 모든 것이 학습 loop에 들어갑니다. 이제 아래 셀을 실행하세요.\n",
    "실행 시 몇 분 정도 걸릴 수 있습니다:\n",
    "\n",
    "\n"
   ]
  },
  {
   "cell_type": "code",
   "execution_count": 35,
   "metadata": {},
   "outputs": [
    {
     "name": "stdout",
     "output_type": "stream",
     "text": [
      "[1,  2000] loss: 2.236\n",
      "[1,  4000] loss: 1.885\n",
      "[1,  6000] loss: 1.724\n",
      "[1,  8000] loss: 1.610\n",
      "[1, 10000] loss: 1.545\n",
      "[1, 12000] loss: 1.477\n",
      "[2,  2000] loss: 1.397\n",
      "[2,  4000] loss: 1.376\n",
      "[2,  6000] loss: 1.345\n",
      "[2,  8000] loss: 1.314\n",
      "[2, 10000] loss: 1.278\n",
      "[2, 12000] loss: 1.287\n",
      "Finished Training\n"
     ]
    }
   ],
   "source": [
    "for epoch in range(2):  # 데이터셋을 여러 번 반복 학습합니다.\n",
    "\n",
    "    running_loss = 0.0\n",
    "    for i, data in enumerate(trainloader, 0):\n",
    "        # 데이터를 통해 이미지와 정답값을 받습니다.\n",
    "        inputs, labels = data\n",
    "\n",
    "        # 초기 기울기 파라미터를 0으로 설정합니다\n",
    "        optimizer.zero_grad()\n",
    "\n",
    "        # forward + backward + optimize 순전파 + 역전파 + optimizer 알고리즘 여기선 SGD\n",
    "        outputs = net(inputs) # 입력\n",
    "        loss = criterion(outputs, labels) # 순전파\n",
    "        loss.backward() # - 기울기\n",
    "        optimizer.step() # - 최적화 : 학습 가중치 조정\n",
    "\n",
    "        # epoch 및 loss 값을 출력합니다\n",
    "        running_loss += loss.item() \n",
    "        if i % 2000 == 1999:    # 2000 mini-batches 마다 값을 출력합니다\n",
    "            print('[%d, %5d] loss: %.3f' % (epoch + 1, i + 1, running_loss / 2000))\n",
    "            running_loss = 0.0\n",
    "\n",
    "print('Finished Training')"
   ]
  },
  {
   "cell_type": "markdown",
   "metadata": {},
   "source": [
    "이 예제에서 **학습 에폭 2번** 만 반복합니다(1번째 ) - 즉, 학습 \n",
    "데이터셋을 두 번 모델에 통과시킵니다. 각 패스에는 \n",
    "**iterates over the training data** (4번째 라인)의 내부 루프가 있어 \n",
    "변환된 입력 이미지의 batch와 올바른 레이블을 제공합니다.\n",
    "\n",
    "**기울기 값 초기화** (9번째 라인) 은 중요한 단계입니다. 기울기는 batch에 \n",
    "걸쳐 누적됩니다. 모든 batch에 대해 기울기 값을 재설정하지 않으면 기울기 \n",
    "값이 계속 누적되어 잘못된 기울기 값을 제공하여 학습이 불가능합니다.\n",
    "\n",
    "12번째 라인에서는 batch 데이터를 **모델에게 예측을 요청** 합니다. \n",
    "다음 13번째라인에서 모델의 결과 값과 정답 값 차이인 손실값을 계산합니다.\n",
    "\n",
    "14번째 라인에서는 ``backward()`` 를 통해 모델의 학습 기울기를 계산합니다.\n",
    "\n",
    "15번째 라인에서는 학습 단계의 최적화를 수행하는데 ``backward()`` \n",
    "를 통해 손실 값을 줄일 수 있는 방향으로 학습 가중치들을 조정합니다.\n",
    "\n",
    "루프의 나머지 부분은 epoch 횟수, 학습 루프를 통해 수집된 손실 값을 출력합니다.\n",
    "\n",
    "**위 셀을 실행한다면** 다음과 같은 값이 표시됩니다:\n",
    "\n",
    "::\n",
    "\n",
    "   [1,  2000] loss: 2.235\n",
    "   [1,  4000] loss: 1.940\n",
    "   [1,  6000] loss: 1.713\n",
    "   [1,  8000] loss: 1.573\n",
    "   [1, 10000] loss: 1.507\n",
    "   [1, 12000] loss: 1.442\n",
    "   [2,  2000] loss: 1.378\n",
    "   [2,  4000] loss: 1.364\n",
    "   [2,  6000] loss: 1.349\n",
    "   [2,  8000] loss: 1.319\n",
    "   [2, 10000] loss: 1.284\n",
    "   [2, 12000] loss: 1.267\n",
    "   Finished Training\n",
    "\n",
    "손실 값은 단조롭게 감소하며, 이는 모델이 훈련 데이터셋에서 성능을 \n",
    "계속 향상시키고 있음을 보여줍니다.\n",
    "\n",
    "마지막 단계로 모델이 단순하게 학습 데이터셋을 “기억” 하는 것이 아니라 \n",
    "실제로 *일반화* 학습을 잘 수행하고 있는 확인해야 합니다. 이를 \n",
    "**과적합(overfitting)** 이라 부르며 일반적으로 데이터셋이 너무 작거나, 모델이 데이터셋\n",
    "을 올바르게 모델링하는 데 필요한 것보다 더 많은 학습 파라미터 변수를 \n",
    "가지고 있음을 보여줍니다. (일반적인 학습에 충분한 예제가 아닙니다)\n",
    "\n",
    "위와 같이 데이터셋이 학습 및 테스트 데이터셋으로 분할되는 이유입니다.\n",
    "모델의 일반성을 테스트하기 위해 학습되지 않은 데이터에 대해 예측하도록 \n",
    "요청합니다:\n",
    "\n",
    "\n"
   ]
  },
  {
   "cell_type": "code",
   "execution_count": 36,
   "metadata": {},
   "outputs": [
    {
     "name": "stdout",
     "output_type": "stream",
     "text": [
      "10000개 테스트 이미지에서 모델 정확도: 55 %\n"
     ]
    }
   ],
   "source": [
    "correct = 0\n",
    "total = 0\n",
    "with torch.no_grad():\n",
    "    for data in testloader:\n",
    "        images, labels = data\n",
    "        outputs = net(images)_, predicted = torch.max(outputs.data, 1)\n",
    "        total += labels.size(0)\n",
    "        correct += (predicted == labels).sum().item()\n",
    "\n",
    "print('10000개 테스트 이미지에서 모델 정확도: %d %%' % (100 * correct / total))"
   ]
  },
  {
   "cell_type": "markdown",
   "metadata": {},
   "source": [
    "위 내용을 잘 실습하셨다면 모델의 정확도가 약 50% 정도 나온다는 것을 확인 할 \n",
    "수 있습니다. 이것은 정확히 최신 기술은 아니지만, 무작위 결과에서 기대할 수 \n",
    "있는 정확도 보다 10% 정도 좋은 결과를 보여줍니다. 이 결과는 모델에서 \n",
    "일반적인 학습이 발생했음을 보여줍니다.\n",
    "\n",
    "\n"
   ]
  },
  {
   "cell_type": "markdown",
   "metadata": {},
   "source": [
    "------------------\n",
    "## Reference"
   ]
  },
  {
   "cell_type": "markdown",
   "metadata": {},
   "source": [
    "### _1. make_gird \n",
    "**torchvision.utils.make_grid(tensor: Union[Tensor, List[Tensor]], nrow: int = 8, padding: int = 2, normalize: bool = False, value_range: Optional[Tuple[int, int]] = None, scale_each: bool = False, pad_value: float = 0.0, **kwargs)**\n",
    "- tensor (Tensor or list) : grid를 만들 이미지들. 4D mini-batch Tensor (B x C x H x W) 혹은 동일한 크기의 image를 담고 있는 list를 줄 수 있다.\n",
    "- nrow (int, optional) : grid의 행 갯수를 지정해줄 수 있다. 열 갯수는 자동으로 B / nrow 로 계산된다. (Default: 8)\n",
    "- padding (int, optional) : 이미지 간 간격 (Default: 2)\n",
    "- normalize (bool, optional) : True로 설정 시 image를 (0, 1) 범위로 normalize해준다. (Default: False)\n",
    "- value_range (tuple, optional) : normalize를 True로 설정 시 사용할 (min, max) 범위. None으로 설정 시 image의 최소 최대값을 이용한다. (Default: None)\n",
    "- scale_each (bool, optional) : True로 설정 시 각각의 image 단위로 normalize를 수행. (Default: False)\n",
    "- pad_value (float, optional) : padding에 사용할 pixel value. (Default: 0)"
   ]
  },
  {
   "cell_type": "markdown",
   "metadata": {},
   "source": [
    "### next(iter(data))\n",
    "- iter(호출가능한객체, 반복을끝낼값)\n",
    "- next : 반복할수 있을때는 해당 값 출력, 반복이 끝났을땐 기본값 출력\n",
    "- next(iter(data)) : iter를 사용해서 data를 호출하고, next를 사용해서 data의 값을 모두 호출, 끝날때까지 반복한다.\n",
    "- pytorch에서 자주 사용하는 데이터 호출\n"
   ]
  }
 ],
 "metadata": {
  "kernelspec": {
   "display_name": "Python 3 (ipykernel)",
   "language": "python",
   "name": "python3"
  },
  "language_info": {
   "codemirror_mode": {
    "name": "ipython",
    "version": 3
   },
   "file_extension": ".py",
   "mimetype": "text/x-python",
   "name": "python",
   "nbconvert_exporter": "python",
   "pygments_lexer": "ipython3",
   "version": "3.7.15"
  }
 },
 "nbformat": 4,
 "nbformat_minor": 1
}
